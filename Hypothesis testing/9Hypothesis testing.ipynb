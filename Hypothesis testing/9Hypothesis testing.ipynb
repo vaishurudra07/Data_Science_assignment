{
 "cells": [
  {
   "cell_type": "code",
   "execution_count": 27,
   "id": "ad7c559e-4eab-42d8-b285-bc639409f1c1",
   "metadata": {},
   "outputs": [],
   "source": [
    "import pandas as pd\n",
    "import numpy as np\n",
    "from scipy import stats"
   ]
  },
  {
   "cell_type": "code",
   "execution_count": 28,
   "id": "63c5fbf1-11d2-4bca-bd4b-bea764adf693",
   "metadata": {},
   "outputs": [],
   "source": [
    "# H0 : There is no relation between the variables.\n",
    "# H1 : There is a significant relationship between the two variables."
   ]
  },
  {
   "cell_type": "code",
   "execution_count": 29,
   "id": "549e9270-e60d-4887-8305-8aa42926f0cf",
   "metadata": {},
   "outputs": [
    {
     "data": {
      "text/html": [
       "<div>\n",
       "<style scoped>\n",
       "    .dataframe tbody tr th:only-of-type {\n",
       "        vertical-align: middle;\n",
       "    }\n",
       "\n",
       "    .dataframe tbody tr th {\n",
       "        vertical-align: top;\n",
       "    }\n",
       "\n",
       "    .dataframe thead th {\n",
       "        text-align: right;\n",
       "    }\n",
       "</style>\n",
       "<table border=\"1\" class=\"dataframe\">\n",
       "  <thead>\n",
       "    <tr style=\"text-align: right;\">\n",
       "      <th></th>\n",
       "      <th>0</th>\n",
       "      <th>1</th>\n",
       "    </tr>\n",
       "  </thead>\n",
       "  <tbody>\n",
       "    <tr>\n",
       "      <th>0</th>\n",
       "      <td>50</td>\n",
       "      <td>70</td>\n",
       "    </tr>\n",
       "    <tr>\n",
       "      <th>1</th>\n",
       "      <td>80</td>\n",
       "      <td>100</td>\n",
       "    </tr>\n",
       "    <tr>\n",
       "      <th>2</th>\n",
       "      <td>60</td>\n",
       "      <td>90</td>\n",
       "    </tr>\n",
       "    <tr>\n",
       "      <th>3</th>\n",
       "      <td>30</td>\n",
       "      <td>50</td>\n",
       "    </tr>\n",
       "    <tr>\n",
       "      <th>4</th>\n",
       "      <td>20</td>\n",
       "      <td>50</td>\n",
       "    </tr>\n",
       "  </tbody>\n",
       "</table>\n",
       "</div>"
      ],
      "text/plain": [
       "    0    1\n",
       "0  50   70\n",
       "1  80  100\n",
       "2  60   90\n",
       "3  30   50\n",
       "4  20   50"
      ]
     },
     "execution_count": 29,
     "metadata": {},
     "output_type": "execute_result"
    }
   ],
   "source": [
    "df =np.array( [[50, 70], [80, 100],[60,90],[30,50],[20,50]])\n",
    "data = pd.DataFrame(df)\n",
    "data"
   ]
  },
  {
   "cell_type": "code",
   "execution_count": 30,
   "id": "8f43e67a-848b-41aa-9ab5-5ab8549f3d64",
   "metadata": {},
   "outputs": [],
   "source": [
    "chi2_stat, p_val, dof, expected = stats.chi2_contingency(data)"
   ]
  },
  {
   "cell_type": "code",
   "execution_count": 31,
   "id": "4c7f8682-1c89-434c-b481-49adfcbaaae5",
   "metadata": {},
   "outputs": [
    {
     "name": "stdout",
     "output_type": "stream",
     "text": [
      "Chi-square Statistic: 5.638227513227513\n",
      "P-value: 0.22784371130697179\n"
     ]
    }
   ],
   "source": [
    "print(f\"Chi-square Statistic: {chi2_stat}\")\n",
    "print(f\"P-value: {p_val}\")"
   ]
  },
  {
   "cell_type": "code",
   "execution_count": 32,
   "id": "7ed259c2-3d4d-4d4a-9bee-24899f3fb17f",
   "metadata": {},
   "outputs": [],
   "source": [
    "alpha = 0.05\n",
    "df=4"
   ]
  },
  {
   "cell_type": "code",
   "execution_count": 33,
   "id": "09af2a3f-1fe5-4813-93aa-1be922cd2bc2",
   "metadata": {},
   "outputs": [
    {
     "name": "stdout",
     "output_type": "stream",
     "text": [
      "Critical Value : 9.487729036781154\n"
     ]
    }
   ],
   "source": [
    "critical_value = stats.chi2.ppf(1 - alpha, df)\n",
    "print(f\"Critical Value : {critical_value}\")"
   ]
  },
  {
   "cell_type": "code",
   "execution_count": 34,
   "id": "ce77e989-89f9-444e-8ed8-c720df3061e0",
   "metadata": {},
   "outputs": [
    {
     "name": "stdout",
     "output_type": "stream",
     "text": [
      "Since p-value (0.22784371130697179) >= 0.05, we fail to reject the null hypothesis.\n"
     ]
    }
   ],
   "source": [
    "if p_val < alpha:\n",
    "    print(f\"Since p-value ({p_val}) < {alpha}, we reject the null hypothesis.\")\n",
    "else:\n",
    "    print(f\"Since p-value ({p_val}) >= {alpha}, we fail to reject the null hypothesis.\")"
   ]
  },
  {
   "cell_type": "code",
   "execution_count": null,
   "id": "86bdea42-dafa-4294-b7b8-291a477c4573",
   "metadata": {},
   "outputs": [],
   "source": [
    "########################################"
   ]
  },
  {
   "cell_type": "code",
   "execution_count": 17,
   "id": "45e32e6c-6465-4c67-8575-7e4e47cd64e1",
   "metadata": {},
   "outputs": [
    {
     "data": {
      "text/plain": [
       "-38.0"
      ]
     },
     "execution_count": 17,
     "metadata": {},
     "output_type": "execute_result"
    }
   ],
   "source": [
    "t=(3050-4000)/(125/(np.sqrt(25)))\n",
    "t"
   ]
  },
  {
   "cell_type": "code",
   "execution_count": 7,
   "id": "6c73fc5a-2e63-42f1-9012-55cd29dcde5a",
   "metadata": {},
   "outputs": [],
   "source": [
    "import numpy as np\n",
    "from scipy import stats"
   ]
  },
  {
   "cell_type": "code",
   "execution_count": 8,
   "id": "b39babe0-916e-4397-ab00-e11c9fe66bac",
   "metadata": {},
   "outputs": [
    {
     "data": {
      "text/plain": [
       "2.9607810808177907e-23"
      ]
     },
     "execution_count": 8,
     "metadata": {},
     "output_type": "execute_result"
    }
   ],
   "source": [
    "stats.t.cdf(-38,df=24)"
   ]
  },
  {
   "cell_type": "code",
   "execution_count": 9,
   "id": "c2c1b64e-2541-4822-82f1-4a0c4d65564f",
   "metadata": {},
   "outputs": [
    {
     "data": {
      "text/plain": [
       "1.0"
      ]
     },
     "execution_count": 9,
     "metadata": {},
     "output_type": "execute_result"
    }
   ],
   "source": [
    "P_value=1-stats.t.cdf(-38,df=24)\n",
    "P_value"
   ]
  },
  {
   "cell_type": "code",
   "execution_count": 10,
   "id": "0971cf95-f9bb-4775-a213-3d47082d447d",
   "metadata": {},
   "outputs": [
    {
     "data": {
      "text/plain": [
       "1.6448536269514722"
      ]
     },
     "execution_count": 10,
     "metadata": {},
     "output_type": "execute_result"
    }
   ],
   "source": [
    "alpha=0.05\n",
    "critical_value = stats.norm.ppf(1 - alpha)\n",
    "critical_value "
   ]
  },
  {
   "cell_type": "code",
   "execution_count": 18,
   "id": "97bcfb79-1140-4dc7-a0ca-f51693462c12",
   "metadata": {},
   "outputs": [
    {
     "name": "stdout",
     "output_type": "stream",
     "text": [
      "Test Statistic (t): -38.0000\n",
      "Critical Value : 1.6449\n"
     ]
    }
   ],
   "source": [
    "print(f\"Test Statistic (t): {t:.4f}\")\n",
    "print(f\"Critical Value : {critical_value:.4f}\")"
   ]
  },
  {
   "cell_type": "code",
   "execution_count": 20,
   "id": "b1c9bfef-b49b-46f7-ae10-3ff6059f84d0",
   "metadata": {},
   "outputs": [
    {
     "name": "stdout",
     "output_type": "stream",
     "text": [
      "\n",
      "Decision: Fail to reject the null hypothesis (H0).\n",
      "Conclusion: There is no strong evidence that the weekly operating costs are higher.\n"
     ]
    }
   ],
   "source": [
    "if t >= critical_value:\n",
    "    print(\"\\nDecision: Reject the null hypothesis (H0).\")\n",
    "    print(\"Conclusion: The weekly operating costs are significantly higher than the model suggests.\")\n",
    "else:\n",
    "    print(\"\\nDecision: Fail to reject the null hypothesis (H0).\")\n",
    "    print(\"Conclusion: There is no strong evidence that the weekly operating costs are higher.\")"
   ]
  },
  {
   "cell_type": "code",
   "execution_count": null,
   "id": "e9305e94-4945-44ce-a3d6-14b249330017",
   "metadata": {},
   "outputs": [],
   "source": []
  },
  {
   "cell_type": "code",
   "execution_count": 12,
   "id": "2b49d535-0558-4eb3-bcc2-37ce788bf566",
   "metadata": {},
   "outputs": [
    {
     "name": "stdout",
     "output_type": "stream",
     "text": [
      "Contingency Table:\n",
      "                  Smart Thermostat  Smart Light\n",
      "Satisfaction                                   \n",
      "Very Satisfied                  50           70\n",
      "Satisfied                       80          100\n",
      "Neutral                         60           90\n",
      "Unsatisfied                     30           50\n",
      "Very Unsatisfied                20           50\n",
      "\n",
      "Contingency Table with Totals:\n",
      "                  Smart Thermostat  Smart Light  Total\n",
      "Satisfaction                                          \n",
      "Very Satisfied                  50           70    120\n",
      "Satisfied                       80          100    180\n",
      "Neutral                         60           90    150\n",
      "Unsatisfied                     30           50     80\n",
      "Very Unsatisfied                20           50     70\n",
      "Total                          240          360    600\n"
     ]
    }
   ],
   "source": [
    "import pandas as pd\n",
    "from scipy.stats import chi2_contingency\n",
    "\n",
    "# Create the contingency table as a DataFrame\n",
    "data = {\n",
    "    \"Satisfaction\": [\"Very Satisfied\", \"Satisfied\", \"Neutral\", \"Unsatisfied\", \"Very Unsatisfied\"],\n",
    "    \"Smart Thermostat\": [50, 80, 60, 30, 20],\n",
    "    \"Smart Light\": [70, 100, 90, 50, 50],\n",
    "}\n",
    "\n",
    "# Convert the dictionary into a DataFrame\n",
    "df = pd.DataFrame(data)\n",
    "df.set_index(\"Satisfaction\", inplace=True)\n",
    "print(\"Contingency Table:\")\n",
    "print(df)\n",
    "\n",
    "# Add totals\n",
    "df.loc[\"Total\"] = df.sum()\n",
    "df[\"Total\"] = df.sum(axis=1)\n",
    "print(\"\\nContingency Table with Totals:\")\n",
    "print(df)\n"
   ]
  },
  {
   "cell_type": "code",
   "execution_count": 2,
   "id": "b23cc4fc-9241-4cb1-992e-5aebb73ab7ed",
   "metadata": {},
   "outputs": [
    {
     "name": "stdout",
     "output_type": "stream",
     "text": [
      "\n",
      "Chi-Square Test Results:\n",
      "Chi-Square Statistic: 5.6382\n",
      "P-Value: 0.2278\n",
      "Degrees of Freedom: 4\n",
      "\n",
      "Expected Frequencies:\n",
      "                  Smart Thermostat  Smart Light\n",
      "Satisfaction                                   \n",
      "Very Satisfied                48.0         72.0\n",
      "Satisfied                     72.0        108.0\n",
      "Neutral                       60.0         90.0\n",
      "Unsatisfied                   32.0         48.0\n",
      "Very Unsatisfied              28.0         42.0\n"
     ]
    }
   ],
   "source": [
    "# Perform the Chi-Square test\n",
    "observed = df.iloc[:-1, :-1]  # Exclude the totals row and column\n",
    "chi2_stat, p_value, dof, expected = chi2_contingency(observed)\n",
    "\n",
    "# Print results\n",
    "print(\"\\nChi-Square Test Results:\")\n",
    "print(f\"Chi-Square Statistic: {chi2_stat:.4f}\")\n",
    "print(f\"P-Value: {p_value:.4f}\")\n",
    "print(f\"Degrees of Freedom: {dof}\")\n",
    "print(\"\\nExpected Frequencies:\")\n",
    "print(pd.DataFrame(expected, index=observed.index, columns=observed.columns))\n"
   ]
  },
  {
   "cell_type": "code",
   "execution_count": 5,
   "id": "67ba1234-a08b-4e83-bd5f-3adfca30966f",
   "metadata": {},
   "outputs": [
    {
     "name": "stdout",
     "output_type": "stream",
     "text": [
      "\n",
      "Chi-Square Critical Value:\n",
      "Critical Value (alpha=0.05, df=4): 9.4877\n"
     ]
    }
   ],
   "source": [
    "from scipy.stats import chi2\n",
    "\n",
    "# Set significance level (alpha)\n",
    "alpha = 0.05\n",
    "\n",
    "# Calculate the critical value\n",
    "critical_value = chi2.ppf(1 - alpha, dof)\n",
    "\n",
    "print(\"\\nChi-Square Critical Value:\")\n",
    "print(f\"Critical Value (alpha=0.05, df={dof}): {critical_value:.4f}\")\n"
   ]
  },
  {
   "cell_type": "code",
   "execution_count": 6,
   "id": "6714fa92-60bd-4df8-b02b-4b3363f03942",
   "metadata": {},
   "outputs": [
    {
     "name": "stdout",
     "output_type": "stream",
     "text": [
      "\n",
      "Decision: Fail to reject the null hypothesis (H0).\n",
      "Conclusion: There is no significant association between device type and satisfaction level.\n"
     ]
    }
   ],
   "source": [
    "# Decision\n",
    "if chi2_stat >= critical_value:\n",
    "    print(\"\\nDecision: Reject the null hypothesis (H0).\")\n",
    "    print(\"Conclusion: There is a significant association between device type and satisfaction level.\")\n",
    "else:\n",
    "    print(\"\\nDecision: Fail to reject the null hypothesis (H0).\")\n",
    "    print(\"Conclusion: There is no significant association between device type and satisfaction level.\")\n"
   ]
  }
 ],
 "metadata": {
  "kernelspec": {
   "display_name": "Python 3 (ipykernel)",
   "language": "python",
   "name": "python3"
  },
  "language_info": {
   "codemirror_mode": {
    "name": "ipython",
    "version": 3
   },
   "file_extension": ".py",
   "mimetype": "text/x-python",
   "name": "python",
   "nbconvert_exporter": "python",
   "pygments_lexer": "ipython3",
   "version": "3.12.4"
  }
 },
 "nbformat": 4,
 "nbformat_minor": 5
}
